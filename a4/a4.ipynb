{
 "cells": [
  {
   "cell_type": "code",
   "execution_count": 45,
   "id": "d6a0465e-e7b3-442e-83a4-8b97d0d96ee2",
   "metadata": {},
   "outputs": [
    {
     "name": "stderr",
     "output_type": "stream",
     "text": [
      "                                                                                "
     ]
    },
    {
     "name": "stdout",
     "output_type": "stream",
     "text": [
      "+---------------+------------+------------+------------+\n",
      "|passenger_count|pulocationid|dolocationid|total_amount|\n",
      "+---------------+------------+------------+------------+\n",
      "|            1.0|       239.0|       239.0|         8.8|\n",
      "|            1.0|       230.0|       100.0|         8.3|\n",
      "|            1.0|        68.0|       127.0|       47.75|\n",
      "|            1.0|        68.0|        68.0|         7.3|\n",
      "|            1.0|        50.0|        42.0|       23.15|\n",
      "|            1.0|        95.0|       196.0|         9.8|\n",
      "|            1.0|       211.0|       211.0|         6.8|\n",
      "|            1.0|       237.0|       162.0|         7.8|\n",
      "|            1.0|       148.0|        37.0|        20.3|\n",
      "|            1.0|       265.0|       265.0|        0.31|\n",
      "+---------------+------------+------------+------------+\n",
      "only showing top 10 rows\n",
      "\n"
     ]
    }
   ],
   "source": [
    "# Create taxiDF and display the first 10 rows\n",
    "filePath = \"gs://class_demo_bucket-1/2019-04.csv\"\n",
    "taxiDF = spark.read.csv(filePath, header=True, inferSchema=True)\n",
    "taxiDF.select(\"passenger_count\", \"pulocationid\", \"dolocationid\", \"total_amount\").show(10)"
   ]
  },
  {
   "cell_type": "code",
   "execution_count": 46,
   "id": "c555b883-e2ce-4aa6-84c0-b5730311324e",
   "metadata": {},
   "outputs": [
    {
     "name": "stderr",
     "output_type": "stream",
     "text": [
      "[Stage 182:==========================================>              (6 + 2) / 8]"
     ]
    },
    {
     "name": "stdout",
     "output_type": "stream",
     "text": [
      "There are 5946608 rows in the training set,\n",
      "and 1486531 in the test set.\n"
     ]
    },
    {
     "name": "stderr",
     "output_type": "stream",
     "text": [
      "                                                                                "
     ]
    }
   ],
   "source": [
    "# Split the dataframe into trainDF and testDF\n",
    "trainDF, testDF = taxiDF.randomSplit([.8, .2], seed=42)\n",
    "print(f\"\"\"There are {trainDF.count()} rows in the training set,\n",
    "and {testDF.count()} in the test set.\"\"\")"
   ]
  },
  {
   "cell_type": "code",
   "execution_count": 47,
   "id": "4b1101a4-f272-4731-83b0-134be674d4b7",
   "metadata": {},
   "outputs": [],
   "source": [
    "# Assemble features into a vector\n",
    "from pyspark.ml.feature import VectorAssembler\n",
    "vecAssembler = VectorAssembler (\n",
    "    inputCols=[\"passenger_count\", \"pulocationid\", \"dolocationid\"],\n",
    "    outputCol=\"features\"\n",
    ")\n",
    "# vecTrainDF = vecAssembler.transform(trainDF)\n",
    "# vecTrainDF.select(\"passenger_count\", \"pulocationid\", \"dolocationid\", \"features\", \"total_amount\").show(10)"
   ]
  },
  {
   "cell_type": "code",
   "execution_count": 48,
   "id": "caf762e4-4006-4faf-9fc1-f579549d6137",
   "metadata": {},
   "outputs": [],
   "source": [
    "# Define and train the decision tree regressor\n",
    "from pyspark.ml.regression import DecisionTreeRegressor\n",
    "dt = DecisionTreeRegressor(\n",
    "    featuresCol=\"features\", # column containing the feature vectors\n",
    "    labelCol=\"total_amount\" # target variable we are predicting\n",
    ")\n",
    "# dtModel = dt.fit(vecTrainDF)"
   ]
  },
  {
   "cell_type": "code",
   "execution_count": 49,
   "id": "06589c48-b820-4344-8359-0841604f0bee",
   "metadata": {},
   "outputs": [
    {
     "name": "stderr",
     "output_type": "stream",
     "text": [
      "[Stage 199:>                                                        (0 + 1) / 1]"
     ]
    },
    {
     "name": "stdout",
     "output_type": "stream",
     "text": [
      "+---------------+------------+------------+------------+------------------+\n",
      "|passenger_count|pulocationid|dolocationid|total_amount|        prediction|\n",
      "+---------------+------------+------------+------------+------------------+\n",
      "|            1.0|       246.0|        68.0|         8.3| 17.52601267249345|\n",
      "|            1.0|       186.0|       261.0|       23.75|19.279406904832715|\n",
      "|            3.0|       144.0|       170.0|       17.15|  15.8201607683849|\n",
      "|            1.0|       100.0|       170.0|         9.8|17.900044761106553|\n",
      "|            1.0|       161.0|       107.0|        10.8|16.356256622231676|\n",
      "|            1.0|       239.0|        24.0|         9.8| 25.23215811655272|\n",
      "|            1.0|       148.0|         4.0|        10.3| 30.57349933215938|\n",
      "|            0.0|       186.0|        13.0|       19.58| 30.57349933215938|\n",
      "|            1.0|       249.0|       144.0|        13.3|  15.8201607683849|\n",
      "|            1.0|       249.0|        87.0|        13.8| 17.52601267249345|\n",
      "+---------------+------------+------------+------------+------------------+\n",
      "only showing top 10 rows\n",
      "\n"
     ]
    },
    {
     "name": "stderr",
     "output_type": "stream",
     "text": [
      "                                                                                "
     ]
    }
   ],
   "source": [
    "# Pipeline\n",
    "from pyspark.ml import Pipeline\n",
    "\n",
    "# Create pipeline\n",
    "pipeline = Pipeline(stages=[vecAssembler, dt])\n",
    "\n",
    "# Train the model\n",
    "pipelineModel = pipeline.fit(trainDF)\n",
    "\n",
    "# Make predictions\n",
    "predDF = pipelineModel.transform(testDF)\n",
    "predDF.select(\"passenger_count\", \"pulocationid\", \"dolocationid\", \"total_amount\", \"prediction\").show(10)"
   ]
  },
  {
   "cell_type": "code",
   "execution_count": 50,
   "id": "6afd26b8-8f50-42a1-afdc-3ddd2e28d349",
   "metadata": {},
   "outputs": [
    {
     "name": "stderr",
     "output_type": "stream",
     "text": [
      "[Stage 200:===================================>                     (5 + 3) / 8]"
     ]
    },
    {
     "name": "stdout",
     "output_type": "stream",
     "text": [
      "Root Mean Squared Error (RMSE) on test data = 12.3755849351859\n"
     ]
    },
    {
     "name": "stderr",
     "output_type": "stream",
     "text": [
      "                                                                                "
     ]
    }
   ],
   "source": [
    "# Evaluate the model\n",
    "from pyspark.ml.evaluation import RegressionEvaluator\n",
    "regressionEvaluator = RegressionEvaluator (\n",
    "    predictionCol=\"prediction\",\n",
    "    labelCol=\"total_amount\",\n",
    "    metricName=\"rmse\"\n",
    ")\n",
    "rmse = regressionEvaluator.evaluate(predDF) \n",
    "print(f\"Root Mean Squared Error (RMSE) on test data = {rmse}\")"
   ]
  },
  {
   "cell_type": "code",
   "execution_count": null,
   "id": "fc3a4b8e-6ec4-4990-bf39-178876489867",
   "metadata": {},
   "outputs": [],
   "source": []
  }
 ],
 "metadata": {
  "kernelspec": {
   "display_name": "sample on Serverless Spark (Remote) on Serverless Spark (Remote)",
   "language": "python",
   "name": "9c39b79e5d2e7072beb4bd59-runtime-0000ef7cac75"
  },
  "language_info": {
   "codemirror_mode": {
    "name": "ipython",
    "version": 3
   },
   "file_extension": ".py",
   "mimetype": "text/x-python",
   "name": "python",
   "nbconvert_exporter": "python",
   "pygments_lexer": "ipython3",
   "version": "3.12.3"
  }
 },
 "nbformat": 4,
 "nbformat_minor": 5
}
